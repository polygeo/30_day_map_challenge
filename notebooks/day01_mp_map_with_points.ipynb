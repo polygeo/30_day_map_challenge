{
 "cells": [
  {
   "cell_type": "markdown",
   "id": "80a80637-8d4c-49f3-8cb5-b0e47be1d311",
   "metadata": {},
   "source": [
    "# Day 1: Map with Points"
   ]
  },
  {
   "cell_type": "code",
   "execution_count": 1,
   "id": "19a03383-5d2c-4eca-822b-fb74add246f8",
   "metadata": {},
   "outputs": [],
   "source": [
    "import sedona.db\n",
    "import os\n",
    "from lonboard import viz"
   ]
  },
  {
   "cell_type": "code",
   "execution_count": 2,
   "id": "a234ef45-f318-44eb-a926-830e1105f8e8",
   "metadata": {},
   "outputs": [],
   "source": [
    "os.environ[\"AWS_SKIP_SIGNATURE\"] = \"true\"\n",
    "os.environ[\"AWS_DEFAULT_REGION\"] = \"us-west-2\"\n",
    "\n",
    "sd = sedona.db.connect()"
   ]
  },
  {
   "cell_type": "code",
   "execution_count": 3,
   "id": "2680bedb-f13f-4373-a45f-1f3cfa155861",
   "metadata": {},
   "outputs": [],
   "source": [
    "df = sd.read_parquet(\n",
    "    \"/Users/matthewpowers/data/overture/base_water.parquet\"\n",
    "    # \"s3://overturemaps-us-west-2/release/2025-08-20.0/theme=base/type=water/\"\n",
    ")"
   ]
  },
  {
   "cell_type": "code",
   "execution_count": 4,
   "id": "2786efb8-dbc3-4813-9a8f-972f7e361e45",
   "metadata": {},
   "outputs": [],
   "source": [
    "df.to_view(\"base_water\", True)"
   ]
  },
  {
   "cell_type": "code",
   "execution_count": 5,
   "id": "954c0cd5-3712-4ffb-b3d3-b6d90da55dc1",
   "metadata": {},
   "outputs": [],
   "source": [
    "nyc = \"POLYGON((-74.26 40.50, -74.26 40.92, -73.70 40.92, -73.70 40.50, -74.26 40.50))\"\n",
    "query = f\"\"\"\n",
    "select * from base_water\n",
    "where\n",
    " ST_Within(geometry, ST_SetSRID(ST_GeomFromText('{nyc}'), 4326))\n",
    " and source_tags['leisure'] = 'swimming_pool'\n",
    "\"\"\""
   ]
  },
  {
   "cell_type": "code",
   "execution_count": 6,
   "id": "685988b4-528a-4b32-b3d9-446126564c8b",
   "metadata": {},
   "outputs": [],
   "source": [
    "res = sd.sql(query)"
   ]
  },
  {
   "cell_type": "code",
   "execution_count": 7,
   "id": "eff09a3e-0cc9-4344-b742-902c191b736a",
   "metadata": {
    "scrolled": true
   },
   "outputs": [
    {
     "data": {
      "application/vnd.jupyter.widget-view+json": {
       "model_id": "7bada589f24841c1b885440d62c52262",
       "version_major": 2,
       "version_minor": 1
      },
      "text/plain": [
       "Map(basemap_style=<CartoBasemap.DarkMatter: 'https://basemaps.cartocdn.com/gl/dark-matter-gl-style/style.json'…"
      ]
     },
     "execution_count": 7,
     "metadata": {},
     "output_type": "execute_result"
    }
   ],
   "source": [
    "viz(res)"
   ]
  },
  {
   "cell_type": "markdown",
   "id": "0f4ddbb6-56d9-4953-b979-b06306293407",
   "metadata": {},
   "source": [
    "![map](images/day01_mp_map_with_points.png)"
   ]
  },
  {
   "cell_type": "code",
   "execution_count": null,
   "id": "01e3866c-081f-43d0-bd33-6cbbe1e6abe3",
   "metadata": {},
   "outputs": [],
   "source": []
  }
 ],
 "metadata": {
  "kernelspec": {
   "display_name": "Python 3 (ipykernel)",
   "language": "python",
   "name": "python3"
  },
  "language_info": {
   "codemirror_mode": {
    "name": "ipython",
    "version": 3
   },
   "file_extension": ".py",
   "mimetype": "text/x-python",
   "name": "python",
   "nbconvert_exporter": "python",
   "pygments_lexer": "ipython3",
   "version": "3.12.4"
  }
 },
 "nbformat": 4,
 "nbformat_minor": 5
}
