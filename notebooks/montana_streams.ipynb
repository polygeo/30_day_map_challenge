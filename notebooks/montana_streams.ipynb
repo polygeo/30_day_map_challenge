{
 "cells": [
  {
   "cell_type": "markdown",
   "id": "25f06f99-5f38-420c-b139-6f79939f8b0c",
   "metadata": {},
   "source": [
    "# Montana Streams"
   ]
  },
  {
   "cell_type": "code",
   "execution_count": 2,
   "id": "bbe59240-49d9-41db-a6e9-630c05af7ff4",
   "metadata": {},
   "outputs": [],
   "source": [
    "import sedona.db\n",
    "import os\n",
    "from lonboard import viz"
   ]
  },
  {
   "cell_type": "code",
   "execution_count": 3,
   "id": "ba9efb9e-0451-498c-9684-1ec5f8b2b1b8",
   "metadata": {},
   "outputs": [],
   "source": [
    "sd = sedona.db.connect()"
   ]
  },
  {
   "cell_type": "code",
   "execution_count": 4,
   "id": "c7f6a7b5-9667-4b62-992a-d7192ee5e290",
   "metadata": {},
   "outputs": [],
   "source": [
    "df = sd.read_parquet(\n",
    "    \"/Users/matthewpowers/data/overture/water.parquet\"\n",
    ")"
   ]
  },
  {
   "cell_type": "code",
   "execution_count": 5,
   "id": "bbb8fd08-ce3e-49b7-a40d-a81d27439f68",
   "metadata": {},
   "outputs": [],
   "source": [
    "df.to_view(\"base_water\", True)"
   ]
  },
  {
   "cell_type": "code",
   "execution_count": 7,
   "id": "b4cdabe9-6c37-4ac5-82f9-b8e59298bfd6",
   "metadata": {},
   "outputs": [],
   "source": [
    "montana = \"POLYGON((-116.05 44.36, -116.05 49.00, -104.04 49.00, -104.04 44.36, -116.05 44.36))\"\n",
    "query = f\"\"\"\n",
    "select * from base_water\n",
    "where\n",
    " ST_Within(geometry, ST_SetSRID(ST_GeomFromText('{montana}'), 4326))\n",
    " and subtype = 'stream'\n",
    "\"\"\""
   ]
  },
  {
   "cell_type": "code",
   "execution_count": 8,
   "id": "39641bde-813a-4409-a119-54726beebee4",
   "metadata": {},
   "outputs": [],
   "source": [
    "res = sd.sql(query)"
   ]
  },
  {
   "cell_type": "code",
   "execution_count": 9,
   "id": "61f11c20-3258-4b30-8239-b79b90b16fa4",
   "metadata": {},
   "outputs": [
    {
     "data": {
      "application/vnd.jupyter.widget-view+json": {
       "model_id": "93a62a6dd7004ae9b2c0fd8cda01ddd1",
       "version_major": 2,
       "version_minor": 1
      },
      "text/plain": [
       "Map(basemap_style=<CartoBasemap.DarkMatter: 'https://basemaps.cartocdn.com/gl/dark-matter-gl-style/style.json'…"
      ]
     },
     "execution_count": 9,
     "metadata": {},
     "output_type": "execute_result"
    }
   ],
   "source": [
    "viz(res)"
   ]
  },
  {
   "cell_type": "code",
   "execution_count": null,
   "id": "a4e70935-f6e2-430b-b537-3eddcc3df037",
   "metadata": {},
   "outputs": [],
   "source": []
  }
 ],
 "metadata": {
  "kernelspec": {
   "display_name": "Python 3 (ipykernel)",
   "language": "python",
   "name": "python3"
  },
  "language_info": {
   "codemirror_mode": {
    "name": "ipython",
    "version": 3
   },
   "file_extension": ".py",
   "mimetype": "text/x-python",
   "name": "python",
   "nbconvert_exporter": "python",
   "pygments_lexer": "ipython3",
   "version": "3.12.4"
  }
 },
 "nbformat": 4,
 "nbformat_minor": 5
}
