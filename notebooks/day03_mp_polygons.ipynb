{
 "cells": [
  {
   "cell_type": "markdown",
   "id": "6cae5353-54ac-4a89-a299-457ebaf2dd79",
   "metadata": {},
   "source": [
    "# Day 3: Polygons\n",
    "\n",
    "> Create a map focused on area features (e.g., administrative regions, land use, boundaries). Use fills, patterns, and choropleth techniques.\n",
    "\n",
    "Download the datasets:\n",
    "\n",
    "```\n",
    "overturemaps download -f geoparquet --type=division_area -o $HOME/data/overture/division_areas.parquet\n",
    "\n",
    "overturemaps download -f geoparquet --type=division_boundary -o $HOME/data/overture/division_boundaries.parquet\n",
    "```"
   ]
  },
  {
   "cell_type": "code",
   "execution_count": 1,
   "id": "6a1d0392-c90e-4bc8-a2dd-d1c27b1e8aaf",
   "metadata": {},
   "outputs": [],
   "source": [
    "import sedona.db\n",
    "import os"
   ]
  },
  {
   "cell_type": "code",
   "execution_count": 2,
   "id": "994518a7-dfa9-4566-9687-0e755a1c6d59",
   "metadata": {},
   "outputs": [],
   "source": [
    "sd = sedona.db.connect()"
   ]
  },
  {
   "cell_type": "markdown",
   "id": "f21283ec-0681-489c-b982-24bdfc92a39a",
   "metadata": {},
   "source": [
    "## Division Areas"
   ]
  },
  {
   "cell_type": "code",
   "execution_count": 3,
   "id": "de45aceb-f008-4d13-8e79-630ceb8f1036",
   "metadata": {},
   "outputs": [],
   "source": [
    "df = sd.read_parquet(\n",
    "    \"/Users/matthewpowers/data/overture/division_areas.parquet\"\n",
    ")"
   ]
  },
  {
   "cell_type": "code",
   "execution_count": 4,
   "id": "524c00af-3cd6-4b63-ae62-674531ac0ddc",
   "metadata": {},
   "outputs": [],
   "source": [
    "df.to_view(\"division_areas\", True)"
   ]
  },
  {
   "cell_type": "code",
   "execution_count": 5,
   "id": "445d9baa-8d4d-4019-9364-fe6f50b73bcc",
   "metadata": {},
   "outputs": [],
   "source": [
    "query = f\"\"\"\n",
    "SELECT \n",
    "    id,\n",
    "    subtype,\n",
    "    geometry\n",
    "FROM division_areas\n",
    "WHERE subtype = 'country'\n",
    "  AND is_land = true;\n",
    "\"\"\""
   ]
  },
  {
   "cell_type": "code",
   "execution_count": 6,
   "id": "a683224f-9ce6-46d8-a07d-efbb027498a4",
   "metadata": {},
   "outputs": [],
   "source": [
    "countries = sd.sql(query)"
   ]
  },
  {
   "cell_type": "code",
   "execution_count": 7,
   "id": "7e74e345-fb65-45e6-9dbb-1198fb67c39a",
   "metadata": {},
   "outputs": [
    {
     "data": {
      "text/plain": [
       "<sedonadb.dataframe.DataFrame object at 0x109bbe270>"
      ]
     },
     "execution_count": 7,
     "metadata": {},
     "output_type": "execute_result"
    }
   ],
   "source": [
    "countries.to_memtable()"
   ]
  },
  {
   "cell_type": "code",
   "execution_count": 8,
   "id": "27c9f168-abdd-4699-9b24-56857f94936e",
   "metadata": {},
   "outputs": [
    {
     "name": "stdout",
     "output_type": "stream",
     "text": [
      "┌──────────────────────────────────────┬─────────┬─────────────────────────────────────────────────┐\n",
      "│                  id                  ┆ subtype ┆                     geometry                    │\n",
      "│                 utf8                 ┆   utf8  ┆                     geometry                    │\n",
      "╞══════════════════════════════════════╪═════════╪═════════════════════════════════════════════════╡\n",
      "│ ff2b0c1d-b261-48be-b0ca-0c85ec02e6b4 ┆ country ┆ MULTIPOLYGON(((25.7717976 43.7048678,25.760241… │\n",
      "├╌╌╌╌╌╌╌╌╌╌╌╌╌╌╌╌╌╌╌╌╌╌╌╌╌╌╌╌╌╌╌╌╌╌╌╌╌╌┼╌╌╌╌╌╌╌╌╌┼╌╌╌╌╌╌╌╌╌╌╌╌╌╌╌╌╌╌╌╌╌╌╌╌╌╌╌╌╌╌╌╌╌╌╌╌╌╌╌╌╌╌╌╌╌╌╌╌╌┤\n",
      "│ cf1e4ed9-7c74-429d-9151-46383b4f759e ┆ country ┆ MULTIPOLYGON(((35.129864 33.0920451,35.1313657… │\n",
      "├╌╌╌╌╌╌╌╌╌╌╌╌╌╌╌╌╌╌╌╌╌╌╌╌╌╌╌╌╌╌╌╌╌╌╌╌╌╌┼╌╌╌╌╌╌╌╌╌┼╌╌╌╌╌╌╌╌╌╌╌╌╌╌╌╌╌╌╌╌╌╌╌╌╌╌╌╌╌╌╌╌╌╌╌╌╌╌╌╌╌╌╌╌╌╌╌╌╌┤\n",
      "│ 3d9401a3-3277-404b-9560-de76a563501c ┆ country ┆ MULTIPOLYGON(((36.163611 33.853333,36.160833 3… │\n",
      "├╌╌╌╌╌╌╌╌╌╌╌╌╌╌╌╌╌╌╌╌╌╌╌╌╌╌╌╌╌╌╌╌╌╌╌╌╌╌┼╌╌╌╌╌╌╌╌╌┼╌╌╌╌╌╌╌╌╌╌╌╌╌╌╌╌╌╌╌╌╌╌╌╌╌╌╌╌╌╌╌╌╌╌╌╌╌╌╌╌╌╌╌╌╌╌╌╌╌┤\n",
      "│ e365df79-a684-45a0-aa84-f86107a4e091 ┆ country ┆ MULTIPOLYGON(((38.1058186 36.8797835,38.105827… │\n",
      "├╌╌╌╌╌╌╌╌╌╌╌╌╌╌╌╌╌╌╌╌╌╌╌╌╌╌╌╌╌╌╌╌╌╌╌╌╌╌┼╌╌╌╌╌╌╌╌╌┼╌╌╌╌╌╌╌╌╌╌╌╌╌╌╌╌╌╌╌╌╌╌╌╌╌╌╌╌╌╌╌╌╌╌╌╌╌╌╌╌╌╌╌╌╌╌╌╌╌┤\n",
      "│ d9081f68-16c9-433e-a32d-aeb75c7be279 ┆ country ┆ POLYGON((43.948898 41.168728,43.949337 41.1678… │\n",
      "├╌╌╌╌╌╌╌╌╌╌╌╌╌╌╌╌╌╌╌╌╌╌╌╌╌╌╌╌╌╌╌╌╌╌╌╌╌╌┼╌╌╌╌╌╌╌╌╌┼╌╌╌╌╌╌╌╌╌╌╌╌╌╌╌╌╌╌╌╌╌╌╌╌╌╌╌╌╌╌╌╌╌╌╌╌╌╌╌╌╌╌╌╌╌╌╌╌╌┤\n",
      "│ 58f108f1-9790-4d80-a437-86bbab1690f8 ┆ country ┆ MULTIPOLYGON(((42.8552083 10.2396968,42.859727… │\n",
      "├╌╌╌╌╌╌╌╌╌╌╌╌╌╌╌╌╌╌╌╌╌╌╌╌╌╌╌╌╌╌╌╌╌╌╌╌╌╌┼╌╌╌╌╌╌╌╌╌┼╌╌╌╌╌╌╌╌╌╌╌╌╌╌╌╌╌╌╌╌╌╌╌╌╌╌╌╌╌╌╌╌╌╌╌╌╌╌╌╌╌╌╌╌╌╌╌╌╌┤\n",
      "│ 6134d1f7-5e6f-46af-98da-da66a5808ea2 ┆ country ┆ MULTIPOLYGON(((52.1967724 18.5880413,52.179136… │\n",
      "├╌╌╌╌╌╌╌╌╌╌╌╌╌╌╌╌╌╌╌╌╌╌╌╌╌╌╌╌╌╌╌╌╌╌╌╌╌╌┼╌╌╌╌╌╌╌╌╌┼╌╌╌╌╌╌╌╌╌╌╌╌╌╌╌╌╌╌╌╌╌╌╌╌╌╌╌╌╌╌╌╌╌╌╌╌╌╌╌╌╌╌╌╌╌╌╌╌╌┤\n",
      "│ d75ab96a-f4f4-4c00-880b-88c4586b570b ┆ country ┆ MULTIPOLYGON(((56.05907 24.8700226,56.0594342 … │\n",
      "├╌╌╌╌╌╌╌╌╌╌╌╌╌╌╌╌╌╌╌╌╌╌╌╌╌╌╌╌╌╌╌╌╌╌╌╌╌╌┼╌╌╌╌╌╌╌╌╌┼╌╌╌╌╌╌╌╌╌╌╌╌╌╌╌╌╌╌╌╌╌╌╌╌╌╌╌╌╌╌╌╌╌╌╌╌╌╌╌╌╌╌╌╌╌╌╌╌╌┤\n",
      "│ c64a02f5-77a5-4dbc-8ec0-445379322fc3 ┆ country ┆ MULTIPOLYGON(((73.1668279 -0.6980064,73.144895… │\n",
      "├╌╌╌╌╌╌╌╌╌╌╌╌╌╌╌╌╌╌╌╌╌╌╌╌╌╌╌╌╌╌╌╌╌╌╌╌╌╌┼╌╌╌╌╌╌╌╌╌┼╌╌╌╌╌╌╌╌╌╌╌╌╌╌╌╌╌╌╌╌╌╌╌╌╌╌╌╌╌╌╌╌╌╌╌╌╌╌╌╌╌╌╌╌╌╌╌╌╌┤\n",
      "│ 739fb176-547a-40c7-8812-18265faf5d3e ┆ country ┆ MULTIPOLYGON(((80.1240532 6.1101002,80.1233728… │\n",
      "└──────────────────────────────────────┴─────────┴─────────────────────────────────────────────────┘\n"
     ]
    }
   ],
   "source": [
    "countries.show()"
   ]
  },
  {
   "cell_type": "code",
   "execution_count": 9,
   "id": "58783383-63e1-4d18-9a91-3d0286b86d14",
   "metadata": {},
   "outputs": [
    {
     "data": {
      "text/plain": [
       "219"
      ]
     },
     "execution_count": 9,
     "metadata": {},
     "output_type": "execute_result"
    }
   ],
   "source": [
    "countries.count()"
   ]
  },
  {
   "cell_type": "markdown",
   "id": "45f3de3d-6286-4bba-aac0-020c2a5bb57d",
   "metadata": {},
   "source": [
    "## Division boundaries"
   ]
  },
  {
   "cell_type": "code",
   "execution_count": 10,
   "id": "cfd32c52-f876-4faf-af08-52831c0e571c",
   "metadata": {},
   "outputs": [],
   "source": [
    "df = sd.read_parquet(\n",
    "    \"/Users/matthewpowers/data/overture/division_boundaries.parquet\"\n",
    ")"
   ]
  },
  {
   "cell_type": "code",
   "execution_count": 11,
   "id": "a1272739-8cf9-4151-b407-4b5068c3efce",
   "metadata": {},
   "outputs": [],
   "source": [
    "df.to_view(\"division_boundaries\", True)"
   ]
  },
  {
   "cell_type": "code",
   "execution_count": 12,
   "id": "83907561-cd92-44b9-9629-4294a72722f4",
   "metadata": {},
   "outputs": [],
   "source": [
    "query = f\"\"\"\n",
    "SELECT \n",
    "    id,\n",
    "    subtype,\n",
    "    geometry\n",
    "FROM division_boundaries\n",
    "WHERE subtype = 'region'\n",
    "  AND is_land = true;\n",
    "\"\"\""
   ]
  },
  {
   "cell_type": "code",
   "execution_count": 13,
   "id": "3b259ee0-f5fe-4022-a1dd-6fd754d2172e",
   "metadata": {},
   "outputs": [],
   "source": [
    "region_boundaries = sd.sql(query)"
   ]
  },
  {
   "cell_type": "code",
   "execution_count": 14,
   "id": "92a537ca-f282-4732-96bb-589151e8b26e",
   "metadata": {},
   "outputs": [
    {
     "data": {
      "text/plain": [
       "<sedonadb.dataframe.DataFrame object at 0x109b195b0>"
      ]
     },
     "execution_count": 14,
     "metadata": {},
     "output_type": "execute_result"
    }
   ],
   "source": [
    "region_boundaries.to_memtable()"
   ]
  },
  {
   "cell_type": "code",
   "execution_count": 15,
   "id": "a98ac472-95cf-447a-a498-e0bab9180c1a",
   "metadata": {},
   "outputs": [
    {
     "data": {
      "text/plain": [
       "7215"
      ]
     },
     "execution_count": 15,
     "metadata": {},
     "output_type": "execute_result"
    }
   ],
   "source": [
    "region_boundaries.count()"
   ]
  },
  {
   "cell_type": "code",
   "execution_count": 16,
   "id": "f8721df1-02db-43af-97ff-a361a711ade6",
   "metadata": {},
   "outputs": [
    {
     "name": "stdout",
     "output_type": "stream",
     "text": [
      "┌──────────────────────────────────────┬─────────┬─────────────────────────────────────────────────┐\n",
      "│                  id                  ┆ subtype ┆                     geometry                    │\n",
      "│                 utf8                 ┆   utf8  ┆                     geometry                    │\n",
      "╞══════════════════════════════════════╪═════════╪═════════════════════════════════════════════════╡\n",
      "│ f949ad50-49a9-34e3-a603-935b5b90f0be ┆ region  ┆ LINESTRING(-62.6881928 8.3824097,-62.6885667 8… │\n",
      "├╌╌╌╌╌╌╌╌╌╌╌╌╌╌╌╌╌╌╌╌╌╌╌╌╌╌╌╌╌╌╌╌╌╌╌╌╌╌┼╌╌╌╌╌╌╌╌╌┼╌╌╌╌╌╌╌╌╌╌╌╌╌╌╌╌╌╌╌╌╌╌╌╌╌╌╌╌╌╌╌╌╌╌╌╌╌╌╌╌╌╌╌╌╌╌╌╌╌┤\n",
      "│ 597c7893-060d-3219-bf40-d91b5d3a83cc ┆ region  ┆ LINESTRING(-62.3220285 9.8081951,-62.3194099 9… │\n",
      "├╌╌╌╌╌╌╌╌╌╌╌╌╌╌╌╌╌╌╌╌╌╌╌╌╌╌╌╌╌╌╌╌╌╌╌╌╌╌┼╌╌╌╌╌╌╌╌╌┼╌╌╌╌╌╌╌╌╌╌╌╌╌╌╌╌╌╌╌╌╌╌╌╌╌╌╌╌╌╌╌╌╌╌╌╌╌╌╌╌╌╌╌╌╌╌╌╌╌┤\n",
      "│ 36e247fa-4790-3d7d-ad44-f69a3462e3f8 ┆ region  ┆ LINESTRING(-63.9586258 10.0837501,-63.9587975 … │\n",
      "├╌╌╌╌╌╌╌╌╌╌╌╌╌╌╌╌╌╌╌╌╌╌╌╌╌╌╌╌╌╌╌╌╌╌╌╌╌╌┼╌╌╌╌╌╌╌╌╌┼╌╌╌╌╌╌╌╌╌╌╌╌╌╌╌╌╌╌╌╌╌╌╌╌╌╌╌╌╌╌╌╌╌╌╌╌╌╌╌╌╌╌╌╌╌╌╌╌╌┤\n",
      "│ 88d34bda-6f7b-35fd-b0a2-bbb4480deec6 ┆ region  ┆ LINESTRING(-63.9586258 10.0837501,-63.9579874 … │\n",
      "├╌╌╌╌╌╌╌╌╌╌╌╌╌╌╌╌╌╌╌╌╌╌╌╌╌╌╌╌╌╌╌╌╌╌╌╌╌╌┼╌╌╌╌╌╌╌╌╌┼╌╌╌╌╌╌╌╌╌╌╌╌╌╌╌╌╌╌╌╌╌╌╌╌╌╌╌╌╌╌╌╌╌╌╌╌╌╌╌╌╌╌╌╌╌╌╌╌╌┤\n",
      "│ 7f1e327c-9cdf-36b0-a216-62e7d1bacd2c ┆ region  ┆ LINESTRING(-60.2429375 7.9251973,-60.2432808 7… │\n",
      "├╌╌╌╌╌╌╌╌╌╌╌╌╌╌╌╌╌╌╌╌╌╌╌╌╌╌╌╌╌╌╌╌╌╌╌╌╌╌┼╌╌╌╌╌╌╌╌╌┼╌╌╌╌╌╌╌╌╌╌╌╌╌╌╌╌╌╌╌╌╌╌╌╌╌╌╌╌╌╌╌╌╌╌╌╌╌╌╌╌╌╌╌╌╌╌╌╌╌┤\n",
      "│ aba37f9f-31a4-3c03-b80f-695aef85499e ┆ region  ┆ LINESTRING(-59.1787438 7.0023657,-59.1852995 7… │\n",
      "├╌╌╌╌╌╌╌╌╌╌╌╌╌╌╌╌╌╌╌╌╌╌╌╌╌╌╌╌╌╌╌╌╌╌╌╌╌╌┼╌╌╌╌╌╌╌╌╌┼╌╌╌╌╌╌╌╌╌╌╌╌╌╌╌╌╌╌╌╌╌╌╌╌╌╌╌╌╌╌╌╌╌╌╌╌╌╌╌╌╌╌╌╌╌╌╌╌╌┤\n",
      "│ 1c6e0bbf-cc28-3da5-800b-a380e067ecd5 ┆ region  ┆ LINESTRING(-58.8752443 5.3958208,-58.8695527 5… │\n",
      "├╌╌╌╌╌╌╌╌╌╌╌╌╌╌╌╌╌╌╌╌╌╌╌╌╌╌╌╌╌╌╌╌╌╌╌╌╌╌┼╌╌╌╌╌╌╌╌╌┼╌╌╌╌╌╌╌╌╌╌╌╌╌╌╌╌╌╌╌╌╌╌╌╌╌╌╌╌╌╌╌╌╌╌╌╌╌╌╌╌╌╌╌╌╌╌╌╌╌┤\n",
      "│ 4975bc52-a41d-36fe-9d19-941032d78437 ┆ region  ┆ LINESTRING(-58.28566 6.0951847,-58.2864072 6.0… │\n",
      "├╌╌╌╌╌╌╌╌╌╌╌╌╌╌╌╌╌╌╌╌╌╌╌╌╌╌╌╌╌╌╌╌╌╌╌╌╌╌┼╌╌╌╌╌╌╌╌╌┼╌╌╌╌╌╌╌╌╌╌╌╌╌╌╌╌╌╌╌╌╌╌╌╌╌╌╌╌╌╌╌╌╌╌╌╌╌╌╌╌╌╌╌╌╌╌╌╌╌┤\n",
      "│ 0cebd257-78a0-3713-b1ed-c0df4a68ea14 ┆ region  ┆ LINESTRING(-57.6707631 5.8619255,-57.6946091 5… │\n",
      "├╌╌╌╌╌╌╌╌╌╌╌╌╌╌╌╌╌╌╌╌╌╌╌╌╌╌╌╌╌╌╌╌╌╌╌╌╌╌┼╌╌╌╌╌╌╌╌╌┼╌╌╌╌╌╌╌╌╌╌╌╌╌╌╌╌╌╌╌╌╌╌╌╌╌╌╌╌╌╌╌╌╌╌╌╌╌╌╌╌╌╌╌╌╌╌╌╌╌┤\n",
      "│ 9250dd4f-e055-3880-b1f9-5d3b27d2069a ┆ region  ┆ LINESTRING(-58.1597231 6.0931409,-58.1697319 6… │\n",
      "└──────────────────────────────────────┴─────────┴─────────────────────────────────────────────────┘\n"
     ]
    }
   ],
   "source": [
    "region_boundaries.show()"
   ]
  },
  {
   "cell_type": "markdown",
   "id": "48c85938-056a-43f0-ae7e-16984a04adb9",
   "metadata": {},
   "source": [
    "## Make a map"
   ]
  },
  {
   "cell_type": "code",
   "execution_count": 17,
   "id": "3aa0c784-4ed0-4a62-97a3-de3e845291df",
   "metadata": {},
   "outputs": [],
   "source": [
    "import lonboard\n",
    "from lonboard import Map, PathLayer, PolygonLayer\n",
    "\n",
    "# Create PolygonLayer for countries (purple fill)\n",
    "country_layer = PolygonLayer(\n",
    "    table=countries,\n",
    "    get_fill_color=[128, 0, 128, 100],  # Purple with transparency\n",
    "    get_line_color=[128, 0, 128, 200],  # Purple outline\n",
    "    line_width_min_pixels=1,\n",
    "    filled=True,\n",
    "    stroked=True\n",
    ")"
   ]
  },
  {
   "cell_type": "code",
   "execution_count": 18,
   "id": "8ae11ecf-6c1c-4e2b-b485-67ce045a2d3e",
   "metadata": {},
   "outputs": [],
   "source": [
    "# Create PathLayer for region boundaries (green lines)\n",
    "boundary_layer = PathLayer(\n",
    "    table=region_boundaries,\n",
    "    get_color=[0, 255, 0, 200],  # Green with alpha\n",
    "    width_min_pixels=2,\n",
    "    width_scale=1\n",
    ")"
   ]
  },
  {
   "cell_type": "code",
   "execution_count": 19,
   "id": "10fc7a55-093a-441d-86e2-60bb77e38fbb",
   "metadata": {},
   "outputs": [
    {
     "data": {
      "application/vnd.jupyter.widget-view+json": {
       "model_id": "b8e46f10285640cc9f22c30ac8bbd8c6",
       "version_major": 2,
       "version_minor": 1
      },
      "text/plain": [
       "Map(custom_attribution='', layers=(PolygonLayer(filled=True, get_fill_color=[128, 0, 128, 100], get_line_color…"
      ]
     },
     "execution_count": 19,
     "metadata": {},
     "output_type": "execute_result"
    }
   ],
   "source": [
    "m = Map(\n",
    "    layers=[country_layer, boundary_layer],\n",
    "    view_state={\n",
    "        'latitude': 0,\n",
    "        'longitude': 0,\n",
    "        'zoom': 2\n",
    "    }\n",
    ")\n",
    "\n",
    "# Display the map\n",
    "m"
   ]
  },
  {
   "cell_type": "markdown",
   "id": "e3d90026-2c27-4c95-aded-75c3355df5ef",
   "metadata": {},
   "source": [
    "![map](../images/day03_mp_polygons.png)"
   ]
  }
 ],
 "metadata": {
  "kernelspec": {
   "display_name": "Python 3 (ipykernel)",
   "language": "python",
   "name": "python3"
  },
  "language_info": {
   "codemirror_mode": {
    "name": "ipython",
    "version": 3
   },
   "file_extension": ".py",
   "mimetype": "text/x-python",
   "name": "python",
   "nbconvert_exporter": "python",
   "pygments_lexer": "ipython3",
   "version": "3.12.4"
  }
 },
 "nbformat": 4,
 "nbformat_minor": 5
}
