{
 "cells": [
  {
   "cell_type": "markdown",
   "id": "6cae5353-54ac-4a89-a299-457ebaf2dd79",
   "metadata": {},
   "source": [
    "# Day 3: Polygons\n",
    "\n",
    "> Create a map focused on area features (e.g., administrative regions, land use, boundaries). Use fills, patterns, and choropleth techniques.\n",
    "\n",
    "Download the datasets:\n",
    "\n",
    "* `division_area`: `overturemaps download -f geoparquet --type=division_area -o $HOME/data/overture/division_areas.parquet`\n",
    "* `division_boundaries`: `uv run overturemaps download -f geoparquet --type=division_boundary -o $HOME/data/overture/division_boundaries.parquet`"
   ]
  },
  {
   "cell_type": "code",
   "execution_count": 1,
   "id": "6a1d0392-c90e-4bc8-a2dd-d1c27b1e8aaf",
   "metadata": {},
   "outputs": [],
   "source": [
    "import sedona.db\n",
    "import os"
   ]
  },
  {
   "cell_type": "code",
   "execution_count": 2,
   "id": "994518a7-dfa9-4566-9687-0e755a1c6d59",
   "metadata": {},
   "outputs": [],
   "source": [
    "sd = sedona.db.connect()"
   ]
  },
  {
   "cell_type": "markdown",
   "id": "f21283ec-0681-489c-b982-24bdfc92a39a",
   "metadata": {},
   "source": [
    "## Division Areas"
   ]
  },
  {
   "cell_type": "code",
   "execution_count": 3,
   "id": "de45aceb-f008-4d13-8e79-630ceb8f1036",
   "metadata": {},
   "outputs": [],
   "source": [
    "df = sd.read_parquet(\n",
    "    \"/Users/matthewpowers/data/overture/division_areas.parquet\"\n",
    ")"
   ]
  },
  {
   "cell_type": "code",
   "execution_count": 4,
   "id": "524c00af-3cd6-4b63-ae62-674531ac0ddc",
   "metadata": {},
   "outputs": [],
   "source": [
    "df.to_view(\"division_areas\", True)"
   ]
  },
  {
   "cell_type": "code",
   "execution_count": 5,
   "id": "445d9baa-8d4d-4019-9364-fe6f50b73bcc",
   "metadata": {},
   "outputs": [],
   "source": [
    "query = f\"\"\"\n",
    "SELECT \n",
    "    id,\n",
    "    subtype,\n",
    "    geometry,\n",
    "    'country' as layer,\n",
    "    'purple' as color\n",
    "FROM division_areas\n",
    "WHERE subtype = 'country'\n",
    "  AND is_land = true;\n",
    "\"\"\""
   ]
  },
  {
   "cell_type": "code",
   "execution_count": 6,
   "id": "a683224f-9ce6-46d8-a07d-efbb027498a4",
   "metadata": {},
   "outputs": [],
   "source": [
    "countries = sd.sql(query)"
   ]
  },
  {
   "cell_type": "code",
   "execution_count": 7,
   "id": "030c19ad-2908-4444-9b4f-f6a2854b1659",
   "metadata": {},
   "outputs": [
    {
     "data": {
      "text/plain": [
       "219"
      ]
     },
     "execution_count": 7,
     "metadata": {},
     "output_type": "execute_result"
    }
   ],
   "source": [
    "countries.count()"
   ]
  },
  {
   "cell_type": "code",
   "execution_count": 8,
   "id": "27c9f168-abdd-4699-9b24-56857f94936e",
   "metadata": {},
   "outputs": [
    {
     "name": "stdout",
     "output_type": "stream",
     "text": [
      "┌──────────────────────────────────┬─────────┬──────────────────────────────────┬─────────┬────────┐\n",
      "│                id                ┆ subtype ┆             geometry             ┆  layer  ┆  color │\n",
      "│               utf8               ┆   utf8  ┆             geometry             ┆   utf8  ┆  utf8  │\n",
      "╞══════════════════════════════════╪═════════╪══════════════════════════════════╪═════════╪════════╡\n",
      "│ ff2b0c1d-b261-48be-b0ca-0c85ec0… ┆ country ┆ MULTIPOLYGON(((25.7717976 43.70… ┆ country ┆ purple │\n",
      "├╌╌╌╌╌╌╌╌╌╌╌╌╌╌╌╌╌╌╌╌╌╌╌╌╌╌╌╌╌╌╌╌╌╌┼╌╌╌╌╌╌╌╌╌┼╌╌╌╌╌╌╌╌╌╌╌╌╌╌╌╌╌╌╌╌╌╌╌╌╌╌╌╌╌╌╌╌╌╌┼╌╌╌╌╌╌╌╌╌┼╌╌╌╌╌╌╌╌┤\n",
      "│ cf1e4ed9-7c74-429d-9151-46383b4… ┆ country ┆ MULTIPOLYGON(((35.129864 33.092… ┆ country ┆ purple │\n",
      "├╌╌╌╌╌╌╌╌╌╌╌╌╌╌╌╌╌╌╌╌╌╌╌╌╌╌╌╌╌╌╌╌╌╌┼╌╌╌╌╌╌╌╌╌┼╌╌╌╌╌╌╌╌╌╌╌╌╌╌╌╌╌╌╌╌╌╌╌╌╌╌╌╌╌╌╌╌╌╌┼╌╌╌╌╌╌╌╌╌┼╌╌╌╌╌╌╌╌┤\n",
      "│ 3d9401a3-3277-404b-9560-de76a56… ┆ country ┆ MULTIPOLYGON(((36.163611 33.853… ┆ country ┆ purple │\n",
      "├╌╌╌╌╌╌╌╌╌╌╌╌╌╌╌╌╌╌╌╌╌╌╌╌╌╌╌╌╌╌╌╌╌╌┼╌╌╌╌╌╌╌╌╌┼╌╌╌╌╌╌╌╌╌╌╌╌╌╌╌╌╌╌╌╌╌╌╌╌╌╌╌╌╌╌╌╌╌╌┼╌╌╌╌╌╌╌╌╌┼╌╌╌╌╌╌╌╌┤\n",
      "│ e365df79-a684-45a0-aa84-f86107a… ┆ country ┆ MULTIPOLYGON(((38.1058186 36.87… ┆ country ┆ purple │\n",
      "├╌╌╌╌╌╌╌╌╌╌╌╌╌╌╌╌╌╌╌╌╌╌╌╌╌╌╌╌╌╌╌╌╌╌┼╌╌╌╌╌╌╌╌╌┼╌╌╌╌╌╌╌╌╌╌╌╌╌╌╌╌╌╌╌╌╌╌╌╌╌╌╌╌╌╌╌╌╌╌┼╌╌╌╌╌╌╌╌╌┼╌╌╌╌╌╌╌╌┤\n",
      "│ d9081f68-16c9-433e-a32d-aeb75c7… ┆ country ┆ POLYGON((43.948898 41.168728,43… ┆ country ┆ purple │\n",
      "├╌╌╌╌╌╌╌╌╌╌╌╌╌╌╌╌╌╌╌╌╌╌╌╌╌╌╌╌╌╌╌╌╌╌┼╌╌╌╌╌╌╌╌╌┼╌╌╌╌╌╌╌╌╌╌╌╌╌╌╌╌╌╌╌╌╌╌╌╌╌╌╌╌╌╌╌╌╌╌┼╌╌╌╌╌╌╌╌╌┼╌╌╌╌╌╌╌╌┤\n",
      "│ 58f108f1-9790-4d80-a437-86bbab1… ┆ country ┆ MULTIPOLYGON(((42.8552083 10.23… ┆ country ┆ purple │\n",
      "├╌╌╌╌╌╌╌╌╌╌╌╌╌╌╌╌╌╌╌╌╌╌╌╌╌╌╌╌╌╌╌╌╌╌┼╌╌╌╌╌╌╌╌╌┼╌╌╌╌╌╌╌╌╌╌╌╌╌╌╌╌╌╌╌╌╌╌╌╌╌╌╌╌╌╌╌╌╌╌┼╌╌╌╌╌╌╌╌╌┼╌╌╌╌╌╌╌╌┤\n",
      "│ 6134d1f7-5e6f-46af-98da-da66a58… ┆ country ┆ MULTIPOLYGON(((52.1967724 18.58… ┆ country ┆ purple │\n",
      "├╌╌╌╌╌╌╌╌╌╌╌╌╌╌╌╌╌╌╌╌╌╌╌╌╌╌╌╌╌╌╌╌╌╌┼╌╌╌╌╌╌╌╌╌┼╌╌╌╌╌╌╌╌╌╌╌╌╌╌╌╌╌╌╌╌╌╌╌╌╌╌╌╌╌╌╌╌╌╌┼╌╌╌╌╌╌╌╌╌┼╌╌╌╌╌╌╌╌┤\n",
      "│ d75ab96a-f4f4-4c00-880b-88c4586… ┆ country ┆ MULTIPOLYGON(((56.05907 24.8700… ┆ country ┆ purple │\n",
      "├╌╌╌╌╌╌╌╌╌╌╌╌╌╌╌╌╌╌╌╌╌╌╌╌╌╌╌╌╌╌╌╌╌╌┼╌╌╌╌╌╌╌╌╌┼╌╌╌╌╌╌╌╌╌╌╌╌╌╌╌╌╌╌╌╌╌╌╌╌╌╌╌╌╌╌╌╌╌╌┼╌╌╌╌╌╌╌╌╌┼╌╌╌╌╌╌╌╌┤\n",
      "│ c64a02f5-77a5-4dbc-8ec0-4453793… ┆ country ┆ MULTIPOLYGON(((73.1668279 -0.69… ┆ country ┆ purple │\n",
      "├╌╌╌╌╌╌╌╌╌╌╌╌╌╌╌╌╌╌╌╌╌╌╌╌╌╌╌╌╌╌╌╌╌╌┼╌╌╌╌╌╌╌╌╌┼╌╌╌╌╌╌╌╌╌╌╌╌╌╌╌╌╌╌╌╌╌╌╌╌╌╌╌╌╌╌╌╌╌╌┼╌╌╌╌╌╌╌╌╌┼╌╌╌╌╌╌╌╌┤\n",
      "│ 739fb176-547a-40c7-8812-18265fa… ┆ country ┆ MULTIPOLYGON(((80.1240532 6.110… ┆ country ┆ purple │\n",
      "└──────────────────────────────────┴─────────┴──────────────────────────────────┴─────────┴────────┘\n"
     ]
    }
   ],
   "source": [
    "countries.show()"
   ]
  },
  {
   "cell_type": "code",
   "execution_count": 10,
   "id": "7e74e345-fb65-45e6-9dbb-1198fb67c39a",
   "metadata": {},
   "outputs": [
    {
     "data": {
      "text/plain": [
       "<sedonadb.dataframe.DataFrame object at 0x110998c80>"
      ]
     },
     "execution_count": 10,
     "metadata": {},
     "output_type": "execute_result"
    }
   ],
   "source": [
    "countries.to_memtable()"
   ]
  },
  {
   "cell_type": "code",
   "execution_count": 12,
   "id": "58783383-63e1-4d18-9a91-3d0286b86d14",
   "metadata": {},
   "outputs": [
    {
     "data": {
      "text/plain": [
       "219"
      ]
     },
     "execution_count": 12,
     "metadata": {},
     "output_type": "execute_result"
    }
   ],
   "source": [
    "countries.count()"
   ]
  },
  {
   "cell_type": "code",
   "execution_count": 9,
   "id": "f0471fb1-7dde-4a25-9a78-a218743b8d13",
   "metadata": {},
   "outputs": [],
   "source": [
    "countries.to_view(\"countries\", True)"
   ]
  },
  {
   "cell_type": "markdown",
   "id": "45f3de3d-6286-4bba-aac0-020c2a5bb57d",
   "metadata": {},
   "source": [
    "## Division boundaries"
   ]
  },
  {
   "cell_type": "code",
   "execution_count": 14,
   "id": "cfd32c52-f876-4faf-af08-52831c0e571c",
   "metadata": {},
   "outputs": [],
   "source": [
    "df = sd.read_parquet(\n",
    "    \"/Users/matthewpowers/data/overture/division_boundaries.parquet\"\n",
    ")"
   ]
  },
  {
   "cell_type": "code",
   "execution_count": 15,
   "id": "a1272739-8cf9-4151-b407-4b5068c3efce",
   "metadata": {},
   "outputs": [],
   "source": [
    "df.to_view(\"division_boundaries\", True)"
   ]
  },
  {
   "cell_type": "code",
   "execution_count": 16,
   "id": "83907561-cd92-44b9-9629-4294a72722f4",
   "metadata": {},
   "outputs": [],
   "source": [
    "query = f\"\"\"\n",
    "SELECT \n",
    "    id,\n",
    "    subtype,\n",
    "    geometry,\n",
    "    'region_boundary' as layer,\n",
    "    'green' as color\n",
    "FROM division_boundaries\n",
    "WHERE subtype = 'region'\n",
    "  AND is_land = true;\n",
    "\"\"\""
   ]
  },
  {
   "cell_type": "code",
   "execution_count": 17,
   "id": "3b259ee0-f5fe-4022-a1dd-6fd754d2172e",
   "metadata": {},
   "outputs": [],
   "source": [
    "region_boundaries = sd.sql(query)"
   ]
  },
  {
   "cell_type": "code",
   "execution_count": 18,
   "id": "92a537ca-f282-4732-96bb-589151e8b26e",
   "metadata": {},
   "outputs": [
    {
     "data": {
      "text/plain": [
       "<sedonadb.dataframe.DataFrame object at 0x112200e60>"
      ]
     },
     "execution_count": 18,
     "metadata": {},
     "output_type": "execute_result"
    }
   ],
   "source": [
    "region_boundaries.to_memtable()"
   ]
  },
  {
   "cell_type": "code",
   "execution_count": 19,
   "id": "a98ac472-95cf-447a-a498-e0bab9180c1a",
   "metadata": {},
   "outputs": [
    {
     "data": {
      "text/plain": [
       "7215"
      ]
     },
     "execution_count": 19,
     "metadata": {},
     "output_type": "execute_result"
    }
   ],
   "source": [
    "region_boundaries.count()"
   ]
  },
  {
   "cell_type": "code",
   "execution_count": 20,
   "id": "f8721df1-02db-43af-97ff-a361a711ade6",
   "metadata": {},
   "outputs": [
    {
     "name": "stdout",
     "output_type": "stream",
     "text": [
      "┌───────────────────────────────┬─────────┬──────────────────────────────┬─────────────────┬───────┐\n",
      "│               id              ┆ subtype ┆           geometry           ┆      layer      ┆ color │\n",
      "│              utf8             ┆   utf8  ┆           geometry           ┆       utf8      ┆  utf8 │\n",
      "╞═══════════════════════════════╪═════════╪══════════════════════════════╪═════════════════╪═══════╡\n",
      "│ 839550a6-4e8f-38f0-b1b9-efcb… ┆ region  ┆ LINESTRING(38.2890021 51.29… ┆ region_boundary ┆ green │\n",
      "├╌╌╌╌╌╌╌╌╌╌╌╌╌╌╌╌╌╌╌╌╌╌╌╌╌╌╌╌╌╌╌┼╌╌╌╌╌╌╌╌╌┼╌╌╌╌╌╌╌╌╌╌╌╌╌╌╌╌╌╌╌╌╌╌╌╌╌╌╌╌╌╌┼╌╌╌╌╌╌╌╌╌╌╌╌╌╌╌╌╌┼╌╌╌╌╌╌╌┤\n",
      "│ 195efc37-4b86-36d1-848e-4289… ┆ region  ┆ LINESTRING(38.2926106 51.96… ┆ region_boundary ┆ green │\n",
      "├╌╌╌╌╌╌╌╌╌╌╌╌╌╌╌╌╌╌╌╌╌╌╌╌╌╌╌╌╌╌╌┼╌╌╌╌╌╌╌╌╌┼╌╌╌╌╌╌╌╌╌╌╌╌╌╌╌╌╌╌╌╌╌╌╌╌╌╌╌╌╌╌┼╌╌╌╌╌╌╌╌╌╌╌╌╌╌╌╌╌┼╌╌╌╌╌╌╌┤\n",
      "│ e378560d-4c57-33ac-9fe0-7c74… ┆ region  ┆ LINESTRING(37.7380345 52.01… ┆ region_boundary ┆ green │\n",
      "├╌╌╌╌╌╌╌╌╌╌╌╌╌╌╌╌╌╌╌╌╌╌╌╌╌╌╌╌╌╌╌┼╌╌╌╌╌╌╌╌╌┼╌╌╌╌╌╌╌╌╌╌╌╌╌╌╌╌╌╌╌╌╌╌╌╌╌╌╌╌╌╌┼╌╌╌╌╌╌╌╌╌╌╌╌╌╌╌╌╌┼╌╌╌╌╌╌╌┤\n",
      "│ ca8ca210-1005-3fbd-b3a6-5807… ┆ region  ┆ LINESTRING(35.9911887 53.62… ┆ region_boundary ┆ green │\n",
      "├╌╌╌╌╌╌╌╌╌╌╌╌╌╌╌╌╌╌╌╌╌╌╌╌╌╌╌╌╌╌╌┼╌╌╌╌╌╌╌╌╌┼╌╌╌╌╌╌╌╌╌╌╌╌╌╌╌╌╌╌╌╌╌╌╌╌╌╌╌╌╌╌┼╌╌╌╌╌╌╌╌╌╌╌╌╌╌╌╌╌┼╌╌╌╌╌╌╌┤\n",
      "│ dad7a262-3dcf-364e-8d81-29ce… ┆ region  ┆ LINESTRING(37.8664693 53.01… ┆ region_boundary ┆ green │\n",
      "├╌╌╌╌╌╌╌╌╌╌╌╌╌╌╌╌╌╌╌╌╌╌╌╌╌╌╌╌╌╌╌┼╌╌╌╌╌╌╌╌╌┼╌╌╌╌╌╌╌╌╌╌╌╌╌╌╌╌╌╌╌╌╌╌╌╌╌╌╌╌╌╌┼╌╌╌╌╌╌╌╌╌╌╌╌╌╌╌╌╌┼╌╌╌╌╌╌╌┤\n",
      "│ 1fdd870a-bba8-341d-a3ae-bd13… ┆ region  ┆ LINESTRING(33.5071262 54.01… ┆ region_boundary ┆ green │\n",
      "├╌╌╌╌╌╌╌╌╌╌╌╌╌╌╌╌╌╌╌╌╌╌╌╌╌╌╌╌╌╌╌┼╌╌╌╌╌╌╌╌╌┼╌╌╌╌╌╌╌╌╌╌╌╌╌╌╌╌╌╌╌╌╌╌╌╌╌╌╌╌╌╌┼╌╌╌╌╌╌╌╌╌╌╌╌╌╌╌╌╌┼╌╌╌╌╌╌╌┤\n",
      "│ ba8467e2-02ae-32c3-ae50-5e3e… ┆ region  ┆ LINESTRING(35.3342215 55.27… ┆ region_boundary ┆ green │\n",
      "├╌╌╌╌╌╌╌╌╌╌╌╌╌╌╌╌╌╌╌╌╌╌╌╌╌╌╌╌╌╌╌┼╌╌╌╌╌╌╌╌╌┼╌╌╌╌╌╌╌╌╌╌╌╌╌╌╌╌╌╌╌╌╌╌╌╌╌╌╌╌╌╌┼╌╌╌╌╌╌╌╌╌╌╌╌╌╌╌╌╌┼╌╌╌╌╌╌╌┤\n",
      "│ 1cb3955e-3b2b-3b23-af2d-97bf… ┆ region  ┆ LINESTRING(35.1410996 53.27… ┆ region_boundary ┆ green │\n",
      "├╌╌╌╌╌╌╌╌╌╌╌╌╌╌╌╌╌╌╌╌╌╌╌╌╌╌╌╌╌╌╌┼╌╌╌╌╌╌╌╌╌┼╌╌╌╌╌╌╌╌╌╌╌╌╌╌╌╌╌╌╌╌╌╌╌╌╌╌╌╌╌╌┼╌╌╌╌╌╌╌╌╌╌╌╌╌╌╌╌╌┼╌╌╌╌╌╌╌┤\n",
      "│ b963b0c6-f166-3a5b-a104-9eb0… ┆ region  ┆ MULTILINESTRING((36.9372397… ┆ region_boundary ┆ green │\n",
      "├╌╌╌╌╌╌╌╌╌╌╌╌╌╌╌╌╌╌╌╌╌╌╌╌╌╌╌╌╌╌╌┼╌╌╌╌╌╌╌╌╌┼╌╌╌╌╌╌╌╌╌╌╌╌╌╌╌╌╌╌╌╌╌╌╌╌╌╌╌╌╌╌┼╌╌╌╌╌╌╌╌╌╌╌╌╌╌╌╌╌┼╌╌╌╌╌╌╌┤\n",
      "│ c418db30-498a-38bf-b99f-57f5… ┆ region  ┆ LINESTRING(35.3342215 55.27… ┆ region_boundary ┆ green │\n",
      "└───────────────────────────────┴─────────┴──────────────────────────────┴─────────────────┴───────┘\n"
     ]
    }
   ],
   "source": [
    "region_boundaries.show()"
   ]
  },
  {
   "cell_type": "code",
   "execution_count": 21,
   "id": "88e4ffe0-8f6c-4848-889a-e38e89bb5e08",
   "metadata": {},
   "outputs": [],
   "source": [
    "region_boundaries.to_view(\"region_boundaries\", True)"
   ]
  },
  {
   "cell_type": "markdown",
   "id": "48c85938-056a-43f0-ae7e-16984a04adb9",
   "metadata": {},
   "source": [
    "## Make a map"
   ]
  },
  {
   "cell_type": "code",
   "execution_count": 17,
   "id": "28aa1181-16f2-420d-a52f-29f48437b6bb",
   "metadata": {},
   "outputs": [],
   "source": [
    "df = sd.sql(\"\"\"\n",
    "SELECT * FROM countries\n",
    "UNION ALL\n",
    "SELECT * FROM region_boundaries;\n",
    "\"\"\")"
   ]
  },
  {
   "cell_type": "code",
   "execution_count": 18,
   "id": "2131135a-02e4-476e-b32c-011f0b729510",
   "metadata": {},
   "outputs": [
    {
     "name": "stdout",
     "output_type": "stream",
     "text": [
      "┌───────────────────────────────┬─────────┬──────────────────────────────┬─────────────────┬───────┐\n",
      "│               id              ┆ subtype ┆           geometry           ┆      layer      ┆ color │\n",
      "│              utf8             ┆   utf8  ┆           geometry           ┆       utf8      ┆  utf8 │\n",
      "╞═══════════════════════════════╪═════════╪══════════════════════════════╪═════════════════╪═══════╡\n",
      "│ 839550a6-4e8f-38f0-b1b9-efcb… ┆ region  ┆ LINESTRING(38.2890021 51.29… ┆ region_boundary ┆ green │\n",
      "├╌╌╌╌╌╌╌╌╌╌╌╌╌╌╌╌╌╌╌╌╌╌╌╌╌╌╌╌╌╌╌┼╌╌╌╌╌╌╌╌╌┼╌╌╌╌╌╌╌╌╌╌╌╌╌╌╌╌╌╌╌╌╌╌╌╌╌╌╌╌╌╌┼╌╌╌╌╌╌╌╌╌╌╌╌╌╌╌╌╌┼╌╌╌╌╌╌╌┤\n",
      "│ 195efc37-4b86-36d1-848e-4289… ┆ region  ┆ LINESTRING(38.2926106 51.96… ┆ region_boundary ┆ green │\n",
      "├╌╌╌╌╌╌╌╌╌╌╌╌╌╌╌╌╌╌╌╌╌╌╌╌╌╌╌╌╌╌╌┼╌╌╌╌╌╌╌╌╌┼╌╌╌╌╌╌╌╌╌╌╌╌╌╌╌╌╌╌╌╌╌╌╌╌╌╌╌╌╌╌┼╌╌╌╌╌╌╌╌╌╌╌╌╌╌╌╌╌┼╌╌╌╌╌╌╌┤\n",
      "│ e378560d-4c57-33ac-9fe0-7c74… ┆ region  ┆ LINESTRING(37.7380345 52.01… ┆ region_boundary ┆ green │\n",
      "├╌╌╌╌╌╌╌╌╌╌╌╌╌╌╌╌╌╌╌╌╌╌╌╌╌╌╌╌╌╌╌┼╌╌╌╌╌╌╌╌╌┼╌╌╌╌╌╌╌╌╌╌╌╌╌╌╌╌╌╌╌╌╌╌╌╌╌╌╌╌╌╌┼╌╌╌╌╌╌╌╌╌╌╌╌╌╌╌╌╌┼╌╌╌╌╌╌╌┤\n",
      "│ ca8ca210-1005-3fbd-b3a6-5807… ┆ region  ┆ LINESTRING(35.9911887 53.62… ┆ region_boundary ┆ green │\n",
      "├╌╌╌╌╌╌╌╌╌╌╌╌╌╌╌╌╌╌╌╌╌╌╌╌╌╌╌╌╌╌╌┼╌╌╌╌╌╌╌╌╌┼╌╌╌╌╌╌╌╌╌╌╌╌╌╌╌╌╌╌╌╌╌╌╌╌╌╌╌╌╌╌┼╌╌╌╌╌╌╌╌╌╌╌╌╌╌╌╌╌┼╌╌╌╌╌╌╌┤\n",
      "│ dad7a262-3dcf-364e-8d81-29ce… ┆ region  ┆ LINESTRING(37.8664693 53.01… ┆ region_boundary ┆ green │\n",
      "├╌╌╌╌╌╌╌╌╌╌╌╌╌╌╌╌╌╌╌╌╌╌╌╌╌╌╌╌╌╌╌┼╌╌╌╌╌╌╌╌╌┼╌╌╌╌╌╌╌╌╌╌╌╌╌╌╌╌╌╌╌╌╌╌╌╌╌╌╌╌╌╌┼╌╌╌╌╌╌╌╌╌╌╌╌╌╌╌╌╌┼╌╌╌╌╌╌╌┤\n",
      "│ 1fdd870a-bba8-341d-a3ae-bd13… ┆ region  ┆ LINESTRING(33.5071262 54.01… ┆ region_boundary ┆ green │\n",
      "├╌╌╌╌╌╌╌╌╌╌╌╌╌╌╌╌╌╌╌╌╌╌╌╌╌╌╌╌╌╌╌┼╌╌╌╌╌╌╌╌╌┼╌╌╌╌╌╌╌╌╌╌╌╌╌╌╌╌╌╌╌╌╌╌╌╌╌╌╌╌╌╌┼╌╌╌╌╌╌╌╌╌╌╌╌╌╌╌╌╌┼╌╌╌╌╌╌╌┤\n",
      "│ ba8467e2-02ae-32c3-ae50-5e3e… ┆ region  ┆ LINESTRING(35.3342215 55.27… ┆ region_boundary ┆ green │\n",
      "├╌╌╌╌╌╌╌╌╌╌╌╌╌╌╌╌╌╌╌╌╌╌╌╌╌╌╌╌╌╌╌┼╌╌╌╌╌╌╌╌╌┼╌╌╌╌╌╌╌╌╌╌╌╌╌╌╌╌╌╌╌╌╌╌╌╌╌╌╌╌╌╌┼╌╌╌╌╌╌╌╌╌╌╌╌╌╌╌╌╌┼╌╌╌╌╌╌╌┤\n",
      "│ 1cb3955e-3b2b-3b23-af2d-97bf… ┆ region  ┆ LINESTRING(35.1410996 53.27… ┆ region_boundary ┆ green │\n",
      "├╌╌╌╌╌╌╌╌╌╌╌╌╌╌╌╌╌╌╌╌╌╌╌╌╌╌╌╌╌╌╌┼╌╌╌╌╌╌╌╌╌┼╌╌╌╌╌╌╌╌╌╌╌╌╌╌╌╌╌╌╌╌╌╌╌╌╌╌╌╌╌╌┼╌╌╌╌╌╌╌╌╌╌╌╌╌╌╌╌╌┼╌╌╌╌╌╌╌┤\n",
      "│ b963b0c6-f166-3a5b-a104-9eb0… ┆ region  ┆ MULTILINESTRING((36.9372397… ┆ region_boundary ┆ green │\n",
      "├╌╌╌╌╌╌╌╌╌╌╌╌╌╌╌╌╌╌╌╌╌╌╌╌╌╌╌╌╌╌╌┼╌╌╌╌╌╌╌╌╌┼╌╌╌╌╌╌╌╌╌╌╌╌╌╌╌╌╌╌╌╌╌╌╌╌╌╌╌╌╌╌┼╌╌╌╌╌╌╌╌╌╌╌╌╌╌╌╌╌┼╌╌╌╌╌╌╌┤\n",
      "│ c418db30-498a-38bf-b99f-57f5… ┆ region  ┆ LINESTRING(35.3342215 55.27… ┆ region_boundary ┆ green │\n",
      "└───────────────────────────────┴─────────┴──────────────────────────────┴─────────────────┴───────┘\n"
     ]
    }
   ],
   "source": [
    "df.show()"
   ]
  },
  {
   "cell_type": "code",
   "execution_count": 13,
   "id": "3aa0c784-4ed0-4a62-97a3-de3e845291df",
   "metadata": {},
   "outputs": [],
   "source": [
    "import lonboard\n",
    "from lonboard import Map, PathLayer, PolygonLayer\n",
    "\n",
    "# Create PolygonLayer for countries (purple fill)\n",
    "country_layer = PolygonLayer(\n",
    "    table=countries,\n",
    "    get_fill_color=[128, 0, 128, 100],  # Purple with transparency\n",
    "    get_line_color=[128, 0, 128, 200],  # Purple outline\n",
    "    line_width_min_pixels=1,\n",
    "    filled=True,\n",
    "    stroked=True\n",
    ")"
   ]
  },
  {
   "cell_type": "code",
   "execution_count": 22,
   "id": "8ae11ecf-6c1c-4e2b-b485-67ce045a2d3e",
   "metadata": {},
   "outputs": [],
   "source": [
    "# Create PathLayer for region boundaries (green lines)\n",
    "boundary_layer = PathLayer(\n",
    "    table=region_boundaries,\n",
    "    get_color=[0, 255, 0, 200],  # Green with alpha\n",
    "    width_min_pixels=2,\n",
    "    width_scale=1\n",
    ")"
   ]
  },
  {
   "cell_type": "code",
   "execution_count": 24,
   "id": "10fc7a55-093a-441d-86e2-60bb77e38fbb",
   "metadata": {},
   "outputs": [
    {
     "data": {
      "application/vnd.jupyter.widget-view+json": {
       "model_id": "afb9b2f3904949c98fe5fdd98876fbcd",
       "version_major": 2,
       "version_minor": 1
      },
      "text/plain": [
       "Map(custom_attribution='', layers=(PolygonLayer(filled=True, get_fill_color=[128, 0, 128, 100], get_line_color…"
      ]
     },
     "execution_count": 24,
     "metadata": {},
     "output_type": "execute_result"
    }
   ],
   "source": [
    "m = Map(\n",
    "    layers=[country_layer, boundary_layer],\n",
    "    view_state={\n",
    "        'latitude': 0,\n",
    "        'longitude': 0,\n",
    "        'zoom': 2\n",
    "    }\n",
    ")\n",
    "\n",
    "# Display the map\n",
    "m"
   ]
  },
  {
   "cell_type": "markdown",
   "id": "e3d90026-2c27-4c95-aded-75c3355df5ef",
   "metadata": {},
   "source": [
    "![map](../images/day03_mp_polygons.png)"
   ]
  },
  {
   "cell_type": "code",
   "execution_count": null,
   "id": "fa1ade65-d2c5-4919-831b-869d9f4acd5e",
   "metadata": {},
   "outputs": [],
   "source": []
  }
 ],
 "metadata": {
  "kernelspec": {
   "display_name": "Python 3 (ipykernel)",
   "language": "python",
   "name": "python3"
  },
  "language_info": {
   "codemirror_mode": {
    "name": "ipython",
    "version": 3
   },
   "file_extension": ".py",
   "mimetype": "text/x-python",
   "name": "python",
   "nbconvert_exporter": "python",
   "pygments_lexer": "ipython3",
   "version": "3.12.4"
  }
 },
 "nbformat": 4,
 "nbformat_minor": 5
}
